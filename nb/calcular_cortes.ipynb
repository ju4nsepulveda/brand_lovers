{
 "cells": [
  {
   "cell_type": "code",
   "execution_count": 1,
   "metadata": {},
   "outputs": [],
   "source": [
    "# packs\n",
    "import os\n",
    "import fnmatch\n",
    "import numpy as np\n",
    "import pandas as pd\n",
    "from google.cloud import bigquery\n",
    "\n",
    "#funciones\n",
    "def consulta_archivo(patron, ruta='../querys'):\n",
    "    \"\"\"\n",
    "    Ejecuta una consulta en BigQuery utilizando un archivo SQL que coincide con un patrón.\n",
    "\n",
    "    Parameters:\n",
    "    - patron (str): El patrón para buscar el archivo SQL.\n",
    "    - ruta (str, optional): La ruta del directorio donde se buscarán los archivos SQL. \n",
    "                           Por defecto, es '../querys'.\n",
    "\n",
    "    Returns:\n",
    "    - pandas.DataFrame or None: El resultado de la consulta en forma de DataFrame de pandas. \n",
    "                               Si no se encuentra el archivo SQL, retorna None.\n",
    "\n",
    "    Example:\n",
    "    ```python\n",
    "    patron_busqueda = 'megabrands'\n",
    "    df_resultado = consulta_archivo(patron_busqueda)\n",
    "    ```\n",
    "\n",
    "    \"\"\"\n",
    "    # Encuentra el archivo SQL utilizando el patrón\n",
    "    for nombre_archivo in os.listdir(ruta):\n",
    "        if fnmatch.fnmatch(nombre_archivo, f'*{patron}*.sql'):\n",
    "            # Construye la ruta completa al archivo SQL\n",
    "            ruta_completa_sql = os.path.join(ruta, nombre_archivo)\n",
    "            print(nombre_archivo)\n",
    "            # Lee el contenido del archivo SQL\n",
    "            with open(ruta_completa_sql, \"r\") as file:\n",
    "                sql = file.read()\n",
    "\n",
    "            # Ejecuta la consulta y convierte los resultados a un DataFrame de pandas\n",
    "            cliente = bigquery.Client()\n",
    "            df_resultado = cliente.query(sql).to_dataframe()\n",
    "            print(df_resultado.head(2))\n",
    "            print(df_resultado.shape)\n",
    "            return df_resultado\n",
    "\n",
    "    # Si no se encuentra ningún archivo que coincida con el patrón\n",
    "    print('No se encontró el archivo SQL.')\n",
    "    return None"
   ]
  },
  {
   "cell_type": "code",
   "execution_count": null,
   "metadata": {},
   "outputs": [],
   "source": []
  }
 ],
 "metadata": {
  "kernelspec": {
   "display_name": ".venv",
   "language": "python",
   "name": "python3"
  },
  "language_info": {
   "codemirror_mode": {
    "name": "ipython",
    "version": 3
   },
   "file_extension": ".py",
   "mimetype": "text/x-python",
   "name": "python",
   "nbconvert_exporter": "python",
   "pygments_lexer": "ipython3",
   "version": "3.10.11"
  }
 },
 "nbformat": 4,
 "nbformat_minor": 2
}
