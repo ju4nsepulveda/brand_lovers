{
 "cells": [
  {
   "cell_type": "code",
   "execution_count": 74,
   "metadata": {},
   "outputs": [],
   "source": [
    "import numpy as np\n",
    "import pandas as pd\n",
    "from google.cloud import bigquery\n",
    "import seaborn as sns\n",
    "import matplotlib.pyplot as plt\n",
    "\n",
    "def consulta_desde_archivo(sql):\n",
    "    # Lee el contenido del archivo SQL\n",
    "    with open(sql, \"r\") as file:\n",
    "        sql = file.read()\n",
    "\n",
    "    # Ejecuta la consulta y convierte los resultados a un DataFrame de pandas\n",
    "    cliente = bigquery.Client()\n",
    "    df_resultado = cliente.query(sql).to_dataframe()\n",
    "    print(df_resultado.head(2))\n",
    "    return df_resultado\n",
    "\n",
    "def asignar_cuadrantes(df, names, condiciones, etiquetas):\n",
    "    \"\"\"\n",
    "    Segmenta el DataFrame `df` basado en las condiciones proporcionadas\n",
    "    para un conjunto específico de columnas y asigna la etiqueta especificada.\n",
    "\n",
    "    Parámetros:\n",
    "    - df: DataFrame de pandas.\n",
    "    - columnas: Lista de nombres de columnas a considerar.\n",
    "    - condiciones: Lista de condiciones correspondientes a las columnas en formato de cadena.\n",
    "    - etiqueta: Etiqueta a asignar cuando se cumplen las condiciones.\n",
    "    \"\"\"\n",
    "    for cond1 in condiciones[names[0]]:\n",
    "        for cond2 in condiciones[names[1]]:\n",
    "            mask = (df[names[0]] == cond1) & (df[names[1]] == cond2)\n",
    "            cuadrante = etiquetas[condiciones[names[0]].index(cond1) * len(condiciones[names[1]]) + condiciones[names[1]].index(cond2)]\n",
    "            df.loc[mask, 'Cuadrante_Final'] = cuadrante          \n",
    "\n"
   ]
  },
  {
   "cell_type": "code",
   "execution_count": 75,
   "metadata": {},
   "outputs": [
    {
     "name": "stdout",
     "output_type": "stream",
     "text": [
      "                                              td_id1  nInteracciones  \\\n",
      "0  963ea2be0ca0f0e1bffd03a4b05f028a1da9619a34d305...               1   \n",
      "1  2311b346bb786e04e7996483944c1febcc77062e61114e...               1   \n",
      "\n",
      "   Dias_interaccion abi_brand  \n",
      "0               274     Poker  \n",
      "1               274     Poker  \n"
     ]
    }
   ],
   "source": [
    "# Llama a la función con el nombre de tu archivo SQL\n",
    "df=consulta_desde_archivo(\"interacciones.sql\")"
   ]
  },
  {
   "cell_type": "code",
   "execution_count": 93,
   "metadata": {},
   "outputs": [
    {
     "data": {
      "text/html": [
       "<div>\n",
       "<style scoped>\n",
       "    .dataframe tbody tr th:only-of-type {\n",
       "        vertical-align: middle;\n",
       "    }\n",
       "\n",
       "    .dataframe tbody tr th {\n",
       "        vertical-align: top;\n",
       "    }\n",
       "\n",
       "    .dataframe thead th {\n",
       "        text-align: right;\n",
       "    }\n",
       "</style>\n",
       "<table border=\"1\" class=\"dataframe\">\n",
       "  <thead>\n",
       "    <tr style=\"text-align: right;\">\n",
       "      <th></th>\n",
       "      <th>td_id1</th>\n",
       "      <th>nInteracciones</th>\n",
       "      <th>Dias_interaccion</th>\n",
       "      <th>abi_brand</th>\n",
       "      <th>CuadranteDias</th>\n",
       "      <th>CuadranteInteracciones</th>\n",
       "    </tr>\n",
       "  </thead>\n",
       "  <tbody>\n",
       "    <tr>\n",
       "      <th>499986</th>\n",
       "      <td>31896a73-389b-4694-96ed-9a13423b287f</td>\n",
       "      <td>0</td>\n",
       "      <td>3</td>\n",
       "      <td>Poker</td>\n",
       "      <td>Early</td>\n",
       "      <td>Low</td>\n",
       "    </tr>\n",
       "  </tbody>\n",
       "</table>\n",
       "</div>"
      ],
      "text/plain": [
       "                                      td_id1  nInteracciones  \\\n",
       "499986  31896a73-389b-4694-96ed-9a13423b287f               0   \n",
       "\n",
       "        Dias_interaccion abi_brand CuadranteDias CuadranteInteracciones  \n",
       "499986                 3     Poker         Early                    Low  "
      ]
     },
     "execution_count": 93,
     "metadata": {},
     "output_type": "execute_result"
    }
   ],
   "source": [
    "df[df['td_id1']=='31896a73-389b-4694-96ed-9a13423b287f']"
   ]
  },
  {
   "cell_type": "code",
   "execution_count": 92,
   "metadata": {},
   "outputs": [
    {
     "data": {
      "text/html": [
       "<div>\n",
       "<style scoped>\n",
       "    .dataframe tbody tr th:only-of-type {\n",
       "        vertical-align: middle;\n",
       "    }\n",
       "\n",
       "    .dataframe tbody tr th {\n",
       "        vertical-align: top;\n",
       "    }\n",
       "\n",
       "    .dataframe thead th {\n",
       "        text-align: right;\n",
       "    }\n",
       "</style>\n",
       "<table border=\"1\" class=\"dataframe\">\n",
       "  <thead>\n",
       "    <tr style=\"text-align: right;\">\n",
       "      <th></th>\n",
       "      <th>td_id1</th>\n",
       "      <th>nInteracciones</th>\n",
       "      <th>Dias_interaccion</th>\n",
       "      <th>abi_brand</th>\n",
       "      <th>CuadranteDias</th>\n",
       "      <th>CuadranteInteracciones</th>\n",
       "    </tr>\n",
       "  </thead>\n",
       "  <tbody>\n",
       "    <tr>\n",
       "      <th>0</th>\n",
       "      <td>963ea2be0ca0f0e1bffd03a4b05f028a1da9619a34d305...</td>\n",
       "      <td>1</td>\n",
       "      <td>274</td>\n",
       "      <td>Poker</td>\n",
       "      <td>Ice</td>\n",
       "      <td>Low</td>\n",
       "    </tr>\n",
       "    <tr>\n",
       "      <th>1</th>\n",
       "      <td>2311b346bb786e04e7996483944c1febcc77062e61114e...</td>\n",
       "      <td>1</td>\n",
       "      <td>274</td>\n",
       "      <td>Poker</td>\n",
       "      <td>Ice</td>\n",
       "      <td>Low</td>\n",
       "    </tr>\n",
       "    <tr>\n",
       "      <th>2</th>\n",
       "      <td>e7e968ebe679dc3c9e0edaa3ac90c3ba8987ddc7f5599e...</td>\n",
       "      <td>1</td>\n",
       "      <td>274</td>\n",
       "      <td>Poker</td>\n",
       "      <td>Ice</td>\n",
       "      <td>Low</td>\n",
       "    </tr>\n",
       "    <tr>\n",
       "      <th>3</th>\n",
       "      <td>30435664960fb8f7ff41eb4768ceb31d46fc27e31745b8...</td>\n",
       "      <td>1</td>\n",
       "      <td>274</td>\n",
       "      <td>Poker</td>\n",
       "      <td>Ice</td>\n",
       "      <td>Low</td>\n",
       "    </tr>\n",
       "    <tr>\n",
       "      <th>4</th>\n",
       "      <td>2fac4467e950b05fdcfb5734ab2038e75febe3a234ba6c...</td>\n",
       "      <td>1</td>\n",
       "      <td>274</td>\n",
       "      <td>Poker</td>\n",
       "      <td>Ice</td>\n",
       "      <td>Low</td>\n",
       "    </tr>\n",
       "  </tbody>\n",
       "</table>\n",
       "</div>"
      ],
      "text/plain": [
       "                                              td_id1  nInteracciones  \\\n",
       "0  963ea2be0ca0f0e1bffd03a4b05f028a1da9619a34d305...               1   \n",
       "1  2311b346bb786e04e7996483944c1febcc77062e61114e...               1   \n",
       "2  e7e968ebe679dc3c9e0edaa3ac90c3ba8987ddc7f5599e...               1   \n",
       "3  30435664960fb8f7ff41eb4768ceb31d46fc27e31745b8...               1   \n",
       "4  2fac4467e950b05fdcfb5734ab2038e75febe3a234ba6c...               1   \n",
       "\n",
       "   Dias_interaccion abi_brand CuadranteDias CuadranteInteracciones  \n",
       "0               274     Poker           Ice                    Low  \n",
       "1               274     Poker           Ice                    Low  \n",
       "2               274     Poker           Ice                    Low  \n",
       "3               274     Poker           Ice                    Low  \n",
       "4               274     Poker           Ice                    Low  "
      ]
     },
     "execution_count": 92,
     "metadata": {},
     "output_type": "execute_result"
    }
   ],
   "source": [
    "df.head()"
   ]
  },
  {
   "cell_type": "code",
   "execution_count": null,
   "metadata": {},
   "outputs": [],
   "source": [
    "# # Crear un nuevo DataFrame con valores menores o iguales a 1\n",
    "# menores1 = df[df['nInteracciones'] <= 1].copy()\n",
    "# # Excluir los valores menores o iguales a 1 del DataFrame original\n",
    "# df = df[df['nInteracciones'] > 1].copy()"
   ]
  },
  {
   "cell_type": "code",
   "execution_count": null,
   "metadata": {},
   "outputs": [],
   "source": [
    "# Calcula el histograma\n",
    "hist, bins = np.histogram(menores1.Dias_interaccion, bins=20)  # Puedes ajustar el número de bins según tu preferencia\n",
    "\n",
    "# Calcula percentiles\n",
    "percentiles = np.percentile(menores1.Dias_interaccion, [33.33, 66.67])\n",
    "print(percentiles)\n",
    "\n",
    "# Crea el histograma\n",
    "plt.hist(menores1.Dias_interaccion, bins=20, edgecolor='black')\n",
    "plt.axvline(percentiles[0], color='red', linestyle='dashed', linewidth=2, label='33.33% Percentile')\n",
    "plt.axvline(percentiles[1], color='green', linestyle='dashed', linewidth=2, label='66.67% Percentile')\n",
    "\n",
    "# Añade etiquetas y título\n",
    "plt.xlabel('Valor')\n",
    "plt.ylabel('Frecuencia')\n",
    "plt.title('Histograma y Percentiles')\n",
    "plt.legend()\n",
    "\n",
    "# Muestra el histograma\n",
    "plt.show()"
   ]
  },
  {
   "cell_type": "code",
   "execution_count": null,
   "metadata": {},
   "outputs": [],
   "source": [
    "# Segmentar cuadrantes según condiciones (ejemplo)\n",
    "menores1['Cuadrante'] = ''\n",
    "menores1.loc[(menores1['Dias_interaccion'] > 200), 'Cuadrante'] = 'Ice'\n",
    "menores1.loc[(menores1['Dias_interaccion'] >= 87) & (menores1['Dias_interaccion'] <= 200), 'Cuadrante'] = 'Midi'\n",
    "menores1.loc[(menores1['Dias_interaccion'] < 87), 'Cuadrante'] = 'Early'\n",
    "# Crear una tabla de frecuencias cruzadas\n",
    "tabla_frecuencias = pd.crosstab(index=menores1['Cuadrante'], columns='count')\n",
    "print(tabla_frecuencias)"
   ]
  },
  {
   "cell_type": "code",
   "execution_count": null,
   "metadata": {},
   "outputs": [],
   "source": [
    "# Segmentar en 9 cuadrantes según condiciones (ejemplo)\n",
    "menores1['Cuadrante'] = ''\n",
    "menores1.loc[(menores1['Dias_interaccion'] > 200), 'Cuadrante'] = 'Ice'\n",
    "menores1.loc[(menores1['Dias_interaccion'] >= 87) & (menores1['Dias_interaccion'] <= 200), 'Cuadrante'] = 'Midi'\n",
    "menores1.loc[(menores1['Dias_interaccion'] < 87), 'Cuadrante'] = 'Early'\n",
    "# Crear una tabla de frecuencias cruzadas\n",
    "tabla_frecuencias = pd.crosstab(index=menores1['Cuadrante'], columns='count')\n",
    "print(tabla_frecuencias)"
   ]
  },
  {
   "cell_type": "code",
   "execution_count": null,
   "metadata": {},
   "outputs": [],
   "source": [
    "# Calcula el histograma\n",
    "hist, bins = np.histogram(df.Dias_interaccion, bins=20)  # Puedes ajustar el número de bins según tu preferencia\n",
    "\n",
    "# Calcula percentiles\n",
    "percentiles = np.percentile(df.Dias_interaccion, [33.33, 66.67])\n",
    "print(percentiles)\n",
    "# Crea el histograma\n",
    "plt.hist(df.Dias_interaccion, bins=20, edgecolor='black')\n",
    "plt.axvline(percentiles[0], color='red', linestyle='dashed', linewidth=2, label='33.33% Percentile')\n",
    "plt.axvline(percentiles[1], color='green', linestyle='dashed', linewidth=2, label='66.67% Percentile')\n",
    "\n",
    "# Añade etiquetas y título\n",
    "plt.xlabel('Valor')\n",
    "plt.ylabel('Frecuencia')\n",
    "plt.title('Histograma y Percentiles')\n",
    "plt.legend()\n",
    "\n",
    "# Muestra el histograma\n",
    "plt.show()"
   ]
  },
  {
   "cell_type": "code",
   "execution_count": null,
   "metadata": {},
   "outputs": [],
   "source": [
    "# Calcula el histograma\n",
    "hist, bins = np.histogram(df.nInteracciones, bins=20)  # Puedes ajustar el número de bins según tu preferencia\n",
    "\n",
    "# Calcula percentiles\n",
    "percentiles = np.percentile(df.nInteracciones, [33.33, 66.67])\n",
    "print(percentiles)\n",
    "# Crea el histograma\n",
    "plt.hist(df.nInteracciones, bins=20, edgecolor='black')\n",
    "plt.axvline(percentiles[0], color='red', linestyle='dashed', linewidth=2, label='33.33% Percentile')\n",
    "plt.axvline(percentiles[1], color='green', linestyle='dashed', linewidth=2, label='66.67% Percentile')\n",
    "\n",
    "# Añade etiquetas y título\n",
    "plt.xlabel('Valor')\n",
    "plt.ylabel('Frecuencia')\n",
    "plt.title('Histograma y Percentiles')\n",
    "plt.legend()\n",
    "\n",
    "# Muestra el histograma\n",
    "plt.show()"
   ]
  },
  {
   "cell_type": "code",
   "execution_count": 76,
   "metadata": {},
   "outputs": [
    {
     "name": "stdout",
     "output_type": "stream",
     "text": [
      "col_0           count\n",
      "CuadranteDias        \n",
      "Early          158422\n",
      "Ice            166154\n",
      "Midi           175800\n"
     ]
    }
   ],
   "source": [
    "# Segmentar en 9 cuadrantes según condiciones (ejemplo)\n",
    "df['CuadranteDias'] = ''\n",
    "df.loc[(df['Dias_interaccion'] > 156), 'CuadranteDias'] = 'Ice'\n",
    "df.loc[(df['Dias_interaccion'] >= 84) & (df['Dias_interaccion'] <= 156), 'CuadranteDias'] = 'Midi'\n",
    "df.loc[(df['Dias_interaccion'] < 84), 'CuadranteDias'] = 'Early'\n",
    "# Crear una tabla de frecuencias cruzadas\n",
    "tabla_frecuencias_1 = pd.crosstab(index=df['CuadranteDias'], columns='count')\n",
    "print(tabla_frecuencias_1)"
   ]
  },
  {
   "cell_type": "code",
   "execution_count": 77,
   "metadata": {},
   "outputs": [
    {
     "name": "stdout",
     "output_type": "stream",
     "text": [
      "col_0                    count\n",
      "CuadranteInteracciones        \n",
      "High                     53832\n",
      "Low                     335032\n",
      "Mid                     111512\n"
     ]
    }
   ],
   "source": [
    "df['CuadranteInteracciones'] = ''\n",
    "df.loc[(df['nInteracciones'] > 10), 'CuadranteInteracciones'] = 'High'\n",
    "df.loc[(df['nInteracciones'] >=2) & (df['nInteracciones'] <= 10), 'CuadranteInteracciones'] = 'Mid'\n",
    "df.loc[(df['nInteracciones'] < 2), 'CuadranteInteracciones'] = 'Low'\n",
    "# Crear una tabla de frecuencias cruzadas\n",
    "tabla_frecuencias_2 = pd.crosstab(index=df['CuadranteInteracciones'], columns='count')\n",
    "print(tabla_frecuencias_2)"
   ]
  },
  {
   "cell_type": "code",
   "execution_count": 78,
   "metadata": {},
   "outputs": [
    {
     "data": {
      "text/html": [
       "<div>\n",
       "<style scoped>\n",
       "    .dataframe tbody tr th:only-of-type {\n",
       "        vertical-align: middle;\n",
       "    }\n",
       "\n",
       "    .dataframe tbody tr th {\n",
       "        vertical-align: top;\n",
       "    }\n",
       "\n",
       "    .dataframe thead th {\n",
       "        text-align: right;\n",
       "    }\n",
       "</style>\n",
       "<table border=\"1\" class=\"dataframe\">\n",
       "  <thead>\n",
       "    <tr style=\"text-align: right;\">\n",
       "      <th></th>\n",
       "      <th>td_id1</th>\n",
       "      <th>nInteracciones</th>\n",
       "      <th>Dias_interaccion</th>\n",
       "      <th>abi_brand</th>\n",
       "      <th>CuadranteDias</th>\n",
       "      <th>CuadranteInteracciones</th>\n",
       "    </tr>\n",
       "  </thead>\n",
       "  <tbody>\n",
       "    <tr>\n",
       "      <th>0</th>\n",
       "      <td>963ea2be0ca0f0e1bffd03a4b05f028a1da9619a34d305...</td>\n",
       "      <td>1</td>\n",
       "      <td>274</td>\n",
       "      <td>Poker</td>\n",
       "      <td>Ice</td>\n",
       "      <td>Low</td>\n",
       "    </tr>\n",
       "    <tr>\n",
       "      <th>1</th>\n",
       "      <td>2311b346bb786e04e7996483944c1febcc77062e61114e...</td>\n",
       "      <td>1</td>\n",
       "      <td>274</td>\n",
       "      <td>Poker</td>\n",
       "      <td>Ice</td>\n",
       "      <td>Low</td>\n",
       "    </tr>\n",
       "    <tr>\n",
       "      <th>2</th>\n",
       "      <td>e7e968ebe679dc3c9e0edaa3ac90c3ba8987ddc7f5599e...</td>\n",
       "      <td>1</td>\n",
       "      <td>274</td>\n",
       "      <td>Poker</td>\n",
       "      <td>Ice</td>\n",
       "      <td>Low</td>\n",
       "    </tr>\n",
       "    <tr>\n",
       "      <th>3</th>\n",
       "      <td>30435664960fb8f7ff41eb4768ceb31d46fc27e31745b8...</td>\n",
       "      <td>1</td>\n",
       "      <td>274</td>\n",
       "      <td>Poker</td>\n",
       "      <td>Ice</td>\n",
       "      <td>Low</td>\n",
       "    </tr>\n",
       "    <tr>\n",
       "      <th>4</th>\n",
       "      <td>2fac4467e950b05fdcfb5734ab2038e75febe3a234ba6c...</td>\n",
       "      <td>1</td>\n",
       "      <td>274</td>\n",
       "      <td>Poker</td>\n",
       "      <td>Ice</td>\n",
       "      <td>Low</td>\n",
       "    </tr>\n",
       "  </tbody>\n",
       "</table>\n",
       "</div>"
      ],
      "text/plain": [
       "                                              td_id1  nInteracciones  \\\n",
       "0  963ea2be0ca0f0e1bffd03a4b05f028a1da9619a34d305...               1   \n",
       "1  2311b346bb786e04e7996483944c1febcc77062e61114e...               1   \n",
       "2  e7e968ebe679dc3c9e0edaa3ac90c3ba8987ddc7f5599e...               1   \n",
       "3  30435664960fb8f7ff41eb4768ceb31d46fc27e31745b8...               1   \n",
       "4  2fac4467e950b05fdcfb5734ab2038e75febe3a234ba6c...               1   \n",
       "\n",
       "   Dias_interaccion abi_brand CuadranteDias CuadranteInteracciones  \n",
       "0               274     Poker           Ice                    Low  \n",
       "1               274     Poker           Ice                    Low  \n",
       "2               274     Poker           Ice                    Low  \n",
       "3               274     Poker           Ice                    Low  \n",
       "4               274     Poker           Ice                    Low  "
      ]
     },
     "execution_count": 78,
     "metadata": {},
     "output_type": "execute_result"
    }
   ],
   "source": [
    "df.head()"
   ]
  },
  {
   "cell_type": "code",
   "execution_count": null,
   "metadata": {},
   "outputs": [],
   "source": [
    "print(df.columns)"
   ]
  },
  {
   "cell_type": "code",
   "execution_count": null,
   "metadata": {},
   "outputs": [],
   "source": [
    "df.td_id1"
   ]
  },
  {
   "cell_type": "code",
   "execution_count": null,
   "metadata": {},
   "outputs": [],
   "source": [
    "# Guardar el DataFrame como un archivo CSV\n",
    "df.to_csv('ejemplo.csv', index=False)"
   ]
  },
  {
   "cell_type": "code",
   "execution_count": null,
   "metadata": {},
   "outputs": [],
   "source": [
    "df_resultado"
   ]
  },
  {
   "cell_type": "code",
   "execution_count": 79,
   "metadata": {},
   "outputs": [
    {
     "name": "stdout",
     "output_type": "stream",
     "text": [
      "                                               td_id Clasificacion\n",
      "0  82295389f559f471b94d57f1357936e9d07d723cb6d0fd...          Core\n",
      "1  85fef6505c972d90a70ddcb08fd5bd96042823b5da9b59...          Core\n"
     ]
    }
   ],
   "source": [
    " # Ejecuta la consulta y convierte los resultados a un DataFrame de pandas\n",
    "sql='''\n",
    "select\n",
    "td_id,\n",
    "Clasificacion\n",
    "from\n",
    "`abi-martech-maz-col.tadabra.Master_Tada_acumulado`\n",
    "where td_id is not null \n",
    "'''\n",
    "cliente = bigquery.Client()\n",
    "df_resultado = cliente.query(sql).to_dataframe()\n",
    "print(df_resultado.head(2))"
   ]
  },
  {
   "cell_type": "code",
   "execution_count": null,
   "metadata": {},
   "outputs": [],
   "source": [
    "# # cuadrante final \n",
    "# names = ['CuadranteDias', 'CuadranteInteracciones']\n",
    "# condiciones_Dias = ['Early', 'Midi,', 'Ice']\n",
    "# condiciones_Interaccione = ['Low', 'Mid', 'High']\n",
    "# etiquetas=['1,1', '1,2', '1,3', '2,1', '2,2', '2,3', '3,1', '3,2', '3,3']\n",
    "# df.loc[(df[names[0]] == condiciones_Dias[0]) & (df[names[1]] == condiciones_Interaccione[0]), 'Cuadrante_Final'] = etiquetas[0]\n",
    "\n",
    "# # segmentar_y_etiquetar(df, names, ['==Ice', '==Low'], 'Ice-Low')\n"
   ]
  },
  {
   "cell_type": "code",
   "execution_count": 80,
   "metadata": {},
   "outputs": [],
   "source": [
    "base = pd.merge(df, df_resultado, left_on='td_id1', right_on='td_id', how='inner')"
   ]
  },
  {
   "cell_type": "code",
   "execution_count": null,
   "metadata": {},
   "outputs": [],
   "source": [
    "base.head()"
   ]
  },
  {
   "cell_type": "code",
   "execution_count": 81,
   "metadata": {},
   "outputs": [
    {
     "data": {
      "text/plain": [
       "(500376, 6)"
      ]
     },
     "execution_count": 81,
     "metadata": {},
     "output_type": "execute_result"
    }
   ],
   "source": [
    "df.shape"
   ]
  },
  {
   "cell_type": "code",
   "execution_count": 82,
   "metadata": {},
   "outputs": [
    {
     "data": {
      "text/plain": [
       "(416259, 2)"
      ]
     },
     "execution_count": 82,
     "metadata": {},
     "output_type": "execute_result"
    }
   ],
   "source": [
    "df_resultado.shape"
   ]
  },
  {
   "cell_type": "code",
   "execution_count": 83,
   "metadata": {},
   "outputs": [
    {
     "data": {
      "text/plain": [
       "(42029, 8)"
      ]
     },
     "execution_count": 83,
     "metadata": {},
     "output_type": "execute_result"
    }
   ],
   "source": [
    "base.shape"
   ]
  },
  {
   "cell_type": "code",
   "execution_count": 84,
   "metadata": {},
   "outputs": [
    {
     "data": {
      "text/plain": [
       "Clasificacion  CuadranteInteracciones\n",
       "Frozen         Low                       8519\n",
       "Churn          Low                       6796\n",
       "Frozen         Mid                       5188\n",
       "Churn          Mid                       5185\n",
       "Casual         Low                       3592\n",
       "               Mid                       3097\n",
       "Core           Low                       1608\n",
       "               Mid                       1606\n",
       "Power          Low                       1208\n",
       "               Mid                       1156\n",
       "First Month    Low                        998\n",
       "Frozen         High                       887\n",
       "First Month    Mid                        657\n",
       "Churn          High                       642\n",
       "Casual         High                       426\n",
       "Core           High                       200\n",
       "Power          High                       158\n",
       "First Month    High                       106\n",
       "Name: count, dtype: int64"
      ]
     },
     "execution_count": 84,
     "metadata": {},
     "output_type": "execute_result"
    }
   ],
   "source": [
    "base[['Clasificacion', 'CuadranteInteracciones']].value_counts()"
   ]
  },
  {
   "cell_type": "code",
   "execution_count": null,
   "metadata": {},
   "outputs": [],
   "source": [
    "base[['Clasificacion']].value_counts()"
   ]
  },
  {
   "cell_type": "code",
   "execution_count": 85,
   "metadata": {},
   "outputs": [],
   "source": [
    "filtro = ['Casual', 'Core', 'Power']\n",
    "base_rfm=base[base['Clasificacion'].isin (filtro)]"
   ]
  },
  {
   "cell_type": "code",
   "execution_count": null,
   "metadata": {},
   "outputs": [],
   "source": [
    "base_rfm[['Clasificacion']].value_counts()"
   ]
  },
  {
   "cell_type": "code",
   "execution_count": 86,
   "metadata": {},
   "outputs": [
    {
     "data": {
      "text/plain": [
       "CuadranteInteracciones\n",
       "Low     998\n",
       "Mid     657\n",
       "High    106\n",
       "Name: count, dtype: int64"
      ]
     },
     "execution_count": 86,
     "metadata": {},
     "output_type": "execute_result"
    }
   ],
   "source": [
    "base[base['Clasificacion']=='First Month']['CuadranteInteracciones'].value_counts()"
   ]
  },
  {
   "cell_type": "code",
   "execution_count": 87,
   "metadata": {},
   "outputs": [
    {
     "name": "stderr",
     "output_type": "stream",
     "text": [
      "C:\\Users\\JuanSe\\AppData\\Local\\Temp\\ipykernel_9120\\3926882255.py:33: SettingWithCopyWarning: \n",
      "A value is trying to be set on a copy of a slice from a DataFrame.\n",
      "Try using .loc[row_indexer,col_indexer] = value instead\n",
      "\n",
      "See the caveats in the documentation: https://pandas.pydata.org/pandas-docs/stable/user_guide/indexing.html#returning-a-view-versus-a-copy\n",
      "  df.loc[mask, 'Cuadrante_Final'] = cuadrante\n"
     ]
    }
   ],
   "source": [
    "names = ['Clasificacion', 'CuadranteInteracciones']\n",
    "condiciones = {\n",
    "    'Clasificacion': ['Casual', 'Core', 'Power'],\n",
    "    'CuadranteInteracciones': ['Low', 'Mid', 'Hot']\n",
    "}\n",
    "etiquetas = ['1,1', '1,2', '1,3', '2,1', '2,2', '2,3', '3,1', '3,2', '3,3']\n",
    "\n",
    "asignar_cuadrantes(base_rfm, names, condiciones, etiquetas)"
   ]
  },
  {
   "cell_type": "code",
   "execution_count": 88,
   "metadata": {},
   "outputs": [
    {
     "data": {
      "text/plain": [
       "Cuadrante_Final\n",
       "1,1    3592\n",
       "1,2    3097\n",
       "2,1    1608\n",
       "2,2    1606\n",
       "3,1    1208\n",
       "3,2    1156\n",
       "nan     784\n",
       "Name: count, dtype: int64"
      ]
     },
     "execution_count": 88,
     "metadata": {},
     "output_type": "execute_result"
    }
   ],
   "source": [
    "base_rfm.Cuadrante_Final.value_counts()"
   ]
  },
  {
   "cell_type": "code",
   "execution_count": 90,
   "metadata": {},
   "outputs": [
    {
     "data": {
      "text/html": [
       "<div>\n",
       "<style scoped>\n",
       "    .dataframe tbody tr th:only-of-type {\n",
       "        vertical-align: middle;\n",
       "    }\n",
       "\n",
       "    .dataframe tbody tr th {\n",
       "        vertical-align: top;\n",
       "    }\n",
       "\n",
       "    .dataframe thead th {\n",
       "        text-align: right;\n",
       "    }\n",
       "</style>\n",
       "<table border=\"1\" class=\"dataframe\">\n",
       "  <thead>\n",
       "    <tr style=\"text-align: right;\">\n",
       "      <th></th>\n",
       "      <th>td_id1</th>\n",
       "      <th>nInteracciones</th>\n",
       "      <th>Dias_interaccion</th>\n",
       "      <th>abi_brand</th>\n",
       "      <th>CuadranteDias</th>\n",
       "      <th>CuadranteInteracciones</th>\n",
       "      <th>td_id</th>\n",
       "      <th>Clasificacion</th>\n",
       "      <th>Cuadrante_Final</th>\n",
       "    </tr>\n",
       "  </thead>\n",
       "  <tbody>\n",
       "    <tr>\n",
       "      <th>0</th>\n",
       "      <td>a2bb3f0a-34d1-480e-bad5-2411a1decf6f</td>\n",
       "      <td>1</td>\n",
       "      <td>274</td>\n",
       "      <td>Poker</td>\n",
       "      <td>Ice</td>\n",
       "      <td>Low</td>\n",
       "      <td>a2bb3f0a-34d1-480e-bad5-2411a1decf6f</td>\n",
       "      <td>Casual</td>\n",
       "      <td>1,1</td>\n",
       "    </tr>\n",
       "    <tr>\n",
       "      <th>2</th>\n",
       "      <td>602f12629ee5acf57757d97a5c95f17c03f4edc625342e...</td>\n",
       "      <td>1</td>\n",
       "      <td>274</td>\n",
       "      <td>Poker</td>\n",
       "      <td>Ice</td>\n",
       "      <td>Low</td>\n",
       "      <td>602f12629ee5acf57757d97a5c95f17c03f4edc625342e...</td>\n",
       "      <td>Casual</td>\n",
       "      <td>1,1</td>\n",
       "    </tr>\n",
       "    <tr>\n",
       "      <th>10</th>\n",
       "      <td>ab4256e8a9095547c6f240967ce854d573d3aeb1f97991...</td>\n",
       "      <td>1</td>\n",
       "      <td>274</td>\n",
       "      <td>Poker</td>\n",
       "      <td>Ice</td>\n",
       "      <td>Low</td>\n",
       "      <td>ab4256e8a9095547c6f240967ce854d573d3aeb1f97991...</td>\n",
       "      <td>Casual</td>\n",
       "      <td>1,1</td>\n",
       "    </tr>\n",
       "    <tr>\n",
       "      <th>22</th>\n",
       "      <td>34351201b88300ab799f73ed308d565d4566e8477729fb...</td>\n",
       "      <td>1</td>\n",
       "      <td>274</td>\n",
       "      <td>Poker</td>\n",
       "      <td>Ice</td>\n",
       "      <td>Low</td>\n",
       "      <td>34351201b88300ab799f73ed308d565d4566e8477729fb...</td>\n",
       "      <td>Casual</td>\n",
       "      <td>1,1</td>\n",
       "    </tr>\n",
       "    <tr>\n",
       "      <th>26</th>\n",
       "      <td>05d813174cb5383f5cd70fa91f3b832362786eb5cccb52...</td>\n",
       "      <td>1</td>\n",
       "      <td>274</td>\n",
       "      <td>Poker</td>\n",
       "      <td>Ice</td>\n",
       "      <td>Low</td>\n",
       "      <td>05d813174cb5383f5cd70fa91f3b832362786eb5cccb52...</td>\n",
       "      <td>Casual</td>\n",
       "      <td>1,1</td>\n",
       "    </tr>\n",
       "    <tr>\n",
       "      <th>...</th>\n",
       "      <td>...</td>\n",
       "      <td>...</td>\n",
       "      <td>...</td>\n",
       "      <td>...</td>\n",
       "      <td>...</td>\n",
       "      <td>...</td>\n",
       "      <td>...</td>\n",
       "      <td>...</td>\n",
       "      <td>...</td>\n",
       "    </tr>\n",
       "    <tr>\n",
       "      <th>41951</th>\n",
       "      <td>31896a73-389b-4694-96ed-9a13423b287f</td>\n",
       "      <td>0</td>\n",
       "      <td>3</td>\n",
       "      <td>Poker</td>\n",
       "      <td>Early</td>\n",
       "      <td>Low</td>\n",
       "      <td>31896a73-389b-4694-96ed-9a13423b287f</td>\n",
       "      <td>Casual</td>\n",
       "      <td>1,1</td>\n",
       "    </tr>\n",
       "    <tr>\n",
       "      <th>41957</th>\n",
       "      <td>a910f881-fd69-45c6-ba02-92f06f9eddb8</td>\n",
       "      <td>0</td>\n",
       "      <td>3</td>\n",
       "      <td>Poker</td>\n",
       "      <td>Early</td>\n",
       "      <td>Low</td>\n",
       "      <td>a910f881-fd69-45c6-ba02-92f06f9eddb8</td>\n",
       "      <td>Casual</td>\n",
       "      <td>1,1</td>\n",
       "    </tr>\n",
       "    <tr>\n",
       "      <th>41989</th>\n",
       "      <td>08bc3ba1-cbf2-467b-944c-5b912aafc6b8</td>\n",
       "      <td>0</td>\n",
       "      <td>2</td>\n",
       "      <td>Poker</td>\n",
       "      <td>Early</td>\n",
       "      <td>Low</td>\n",
       "      <td>08bc3ba1-cbf2-467b-944c-5b912aafc6b8</td>\n",
       "      <td>Casual</td>\n",
       "      <td>1,1</td>\n",
       "    </tr>\n",
       "    <tr>\n",
       "      <th>42006</th>\n",
       "      <td>804c5ecd-1516-41a8-b97b-90e563783821</td>\n",
       "      <td>0</td>\n",
       "      <td>2</td>\n",
       "      <td>Poker</td>\n",
       "      <td>Early</td>\n",
       "      <td>Low</td>\n",
       "      <td>804c5ecd-1516-41a8-b97b-90e563783821</td>\n",
       "      <td>Casual</td>\n",
       "      <td>1,1</td>\n",
       "    </tr>\n",
       "    <tr>\n",
       "      <th>42011</th>\n",
       "      <td>17a7da0e-570d-49e9-898d-9c4012b680a9</td>\n",
       "      <td>0</td>\n",
       "      <td>2</td>\n",
       "      <td>Poker</td>\n",
       "      <td>Early</td>\n",
       "      <td>Low</td>\n",
       "      <td>17a7da0e-570d-49e9-898d-9c4012b680a9</td>\n",
       "      <td>Casual</td>\n",
       "      <td>1,1</td>\n",
       "    </tr>\n",
       "  </tbody>\n",
       "</table>\n",
       "<p>3592 rows × 9 columns</p>\n",
       "</div>"
      ],
      "text/plain": [
       "                                                  td_id1  nInteracciones  \\\n",
       "0                   a2bb3f0a-34d1-480e-bad5-2411a1decf6f               1   \n",
       "2      602f12629ee5acf57757d97a5c95f17c03f4edc625342e...               1   \n",
       "10     ab4256e8a9095547c6f240967ce854d573d3aeb1f97991...               1   \n",
       "22     34351201b88300ab799f73ed308d565d4566e8477729fb...               1   \n",
       "26     05d813174cb5383f5cd70fa91f3b832362786eb5cccb52...               1   \n",
       "...                                                  ...             ...   \n",
       "41951               31896a73-389b-4694-96ed-9a13423b287f               0   \n",
       "41957               a910f881-fd69-45c6-ba02-92f06f9eddb8               0   \n",
       "41989               08bc3ba1-cbf2-467b-944c-5b912aafc6b8               0   \n",
       "42006               804c5ecd-1516-41a8-b97b-90e563783821               0   \n",
       "42011               17a7da0e-570d-49e9-898d-9c4012b680a9               0   \n",
       "\n",
       "       Dias_interaccion abi_brand CuadranteDias CuadranteInteracciones  \\\n",
       "0                   274     Poker           Ice                    Low   \n",
       "2                   274     Poker           Ice                    Low   \n",
       "10                  274     Poker           Ice                    Low   \n",
       "22                  274     Poker           Ice                    Low   \n",
       "26                  274     Poker           Ice                    Low   \n",
       "...                 ...       ...           ...                    ...   \n",
       "41951                 3     Poker         Early                    Low   \n",
       "41957                 3     Poker         Early                    Low   \n",
       "41989                 2     Poker         Early                    Low   \n",
       "42006                 2     Poker         Early                    Low   \n",
       "42011                 2     Poker         Early                    Low   \n",
       "\n",
       "                                                   td_id Clasificacion  \\\n",
       "0                   a2bb3f0a-34d1-480e-bad5-2411a1decf6f        Casual   \n",
       "2      602f12629ee5acf57757d97a5c95f17c03f4edc625342e...        Casual   \n",
       "10     ab4256e8a9095547c6f240967ce854d573d3aeb1f97991...        Casual   \n",
       "22     34351201b88300ab799f73ed308d565d4566e8477729fb...        Casual   \n",
       "26     05d813174cb5383f5cd70fa91f3b832362786eb5cccb52...        Casual   \n",
       "...                                                  ...           ...   \n",
       "41951               31896a73-389b-4694-96ed-9a13423b287f        Casual   \n",
       "41957               a910f881-fd69-45c6-ba02-92f06f9eddb8        Casual   \n",
       "41989               08bc3ba1-cbf2-467b-944c-5b912aafc6b8        Casual   \n",
       "42006               804c5ecd-1516-41a8-b97b-90e563783821        Casual   \n",
       "42011               17a7da0e-570d-49e9-898d-9c4012b680a9        Casual   \n",
       "\n",
       "      Cuadrante_Final  \n",
       "0                 1,1  \n",
       "2                 1,1  \n",
       "10                1,1  \n",
       "22                1,1  \n",
       "26                1,1  \n",
       "...               ...  \n",
       "41951             1,1  \n",
       "41957             1,1  \n",
       "41989             1,1  \n",
       "42006             1,1  \n",
       "42011             1,1  \n",
       "\n",
       "[3592 rows x 9 columns]"
      ]
     },
     "execution_count": 90,
     "metadata": {},
     "output_type": "execute_result"
    }
   ],
   "source": [
    "base_rfm[base_rfm.Cuadrante_Final=='1,1']\n"
   ]
  },
  {
   "cell_type": "markdown",
   "metadata": {},
   "source": []
  },
  {
   "cell_type": "code",
   "execution_count": null,
   "metadata": {},
   "outputs": [],
   "source": []
  }
 ],
 "metadata": {
  "kernelspec": {
   "display_name": ".venv",
   "language": "python",
   "name": "python3"
  },
  "language_info": {
   "codemirror_mode": {
    "name": "ipython",
    "version": 3
   },
   "file_extension": ".py",
   "mimetype": "text/x-python",
   "name": "python",
   "nbconvert_exporter": "python",
   "pygments_lexer": "ipython3",
   "version": "3.10.11"
  }
 },
 "nbformat": 4,
 "nbformat_minor": 2
}
