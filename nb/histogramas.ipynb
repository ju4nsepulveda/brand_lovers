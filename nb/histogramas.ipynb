{
 "cells": [
  {
   "cell_type": "code",
   "execution_count": 1,
   "metadata": {},
   "outputs": [],
   "source": [
    "# packs\n",
    "import os\n",
    "import fnmatch\n",
    "import numpy as np\n",
    "import pandas as pd\n",
    "from google.cloud import bigquery\n",
    "import seaborn as sns\n",
    "import matplotlib.pyplot as plt\n",
    "from matplotlib import font_manager\n",
    "\n",
    "#funciones\n",
    "def consulta_archivo(patron, ruta='../querys'):\n",
    "    \"\"\"\n",
    "    Ejecuta una consulta en BigQuery utilizando un archivo SQL que coincide con un patrón.\n",
    "\n",
    "    Parameters:\n",
    "    - patron (str): El patrón para buscar el archivo SQL.\n",
    "    - ruta (str, optional): La ruta del directorio donde se buscarán los archivos SQL. \n",
    "                           Por defecto, es '../querys'.\n",
    "\n",
    "    Returns:\n",
    "    - pandas.DataFrame or None: El resultado de la consulta en forma de DataFrame de pandas. \n",
    "                               Si no se encuentra el archivo SQL, retorna None.\n",
    "\n",
    "    Example:\n",
    "    ```python\n",
    "    patron_busqueda = 'megabrands'\n",
    "    df_resultado = consulta_archivo(patron_busqueda)\n",
    "    ```\n",
    "\n",
    "    \"\"\"\n",
    "    # Encuentra el archivo SQL utilizando el patrón\n",
    "    for nombre_archivo in os.listdir(ruta):\n",
    "        if fnmatch.fnmatch(nombre_archivo, f'*{patron}*.sql'):\n",
    "            # Construye la ruta completa al archivo SQL\n",
    "            ruta_completa_sql = os.path.join(ruta, nombre_archivo)\n",
    "            print(nombre_archivo)\n",
    "            # Lee el contenido del archivo SQL\n",
    "            with open(ruta_completa_sql, \"r\") as file:\n",
    "                sql = file.read()\n",
    "\n",
    "            # Ejecuta la consulta y convierte los resultados a un DataFrame de pandas\n",
    "            cliente = bigquery.Client()\n",
    "            df_resultado = cliente.query(sql).to_dataframe()\n",
    "            print(df_resultado.shape)\n",
    "            print(df_resultado.head(2))\n",
    "            return df_resultado\n",
    "\n",
    "    # Si no se encuentra ningún archivo que coincida con el patrón\n",
    "    print('No se encontró el archivo SQL.')\n",
    "    return None\n",
    "\n",
    "\n",
    "def plot_percentiles(df, column_name, percentile_limit=100):\n",
    "    \"\"\"\n",
    "    Crea un histograma con líneas punteadas para los percentiles 33.33% y 66.67%.\n",
    "\n",
    "    Parameters:\n",
    "    - df (pandas.DataFrame): El DataFrame que contiene la columna de interés.\n",
    "    - column_name (str): El nombre de la columna para la cual se calcularán los percentiles y se creará el histograma.\n",
    "    - percentile_limit (float, optional): El percentil límite para filtrar los valores del DataFrame. Por defecto, es 100.\n",
    "\n",
    "    Returns:\n",
    "    - None: Muestra el histograma con las líneas punteadas.\n",
    "\n",
    "    Example:\n",
    "    ```python\n",
    "    plot_percentiles(df, 'last_interaction_days', 100)\n",
    "    ```\n",
    "\n",
    "    \"\"\"\n",
    "    # Calcula el percentil límite\n",
    "    percentile_value = np.percentile(df[column_name], percentile_limit)\n",
    "\n",
    "\n",
    "    # Crea el subset excluyendo los valores superiores al percentil límite\n",
    "    df_subset = df[df[column_name] <= percentile_value]\n",
    "\n",
    "    # Calcula el histograma\n",
    "    hist, bins = np.histogram(df_subset[column_name], bins=20)\n",
    "\n",
    "    # Calcula percentiles\n",
    "    percentiles = np.percentile(df_subset[column_name], [33.33, 66.67])\n",
    "    print(percentiles)\n",
    "\n",
    "    # Crea el histograma\n",
    "    plt.hist(df_subset[column_name], bins=20, edgecolor='black', color=(255/255, 192/255, 0))\n",
    "    plt.axvline(percentiles[0], color='black', linestyle='dashed', linewidth=2, label='33.33% Percentile')\n",
    "    plt.axvline(percentiles[1], color='black', linestyle='dashed', linewidth=2, label='66.67% Percentile')\n",
    "\n",
    "    # Añade etiquetas y título\n",
    "    plt.xlabel('Valor')\n",
    "    plt.ylabel('Frecuencia')\n",
    "    plt.title(f'Histograma y Percentiles ({column_name})')\n",
    "    plt.legend()\n",
    "\n",
    "    # Muestra el histograma\n",
    "    plt.show()\n",
    "\n",
    "# Ejemplo de uso con un DataFrame y una columna cualquiera\n",
    "# plot_percentiles(df, 'tu_columna', 99)\n",
    "\n",
    "# Llama a la función con el nombre de tu archivo SQL\n",
    "# df_L2 = consulta_archivo('total')\n",
    "# plot_percentiles(df_L2, 'last_interaction_days')\n",
    "\n"
   ]
  },
  {
   "cell_type": "code",
   "execution_count": 2,
   "metadata": {},
   "outputs": [
    {
     "name": "stdout",
     "output_type": "stream",
     "text": [
      "interacciones_mega.sql\n",
      "(1040478, 3)\n",
      "                                              td_id1  nInteracciones  \\\n",
      "0  8af64c29b77b1f8f5d2240eef27631563de5cbc0adceeb...               1   \n",
      "1  49735ca5fb550ca4203782fabb0cb4214402a6cdd86c13...               1   \n",
      "\n",
      "   Dias_interaccion  \n",
      "0               189  \n",
      "1               189  \n"
     ]
    }
   ],
   "source": [
    "# Llama a la función con el nombre de tu archivo SQL\n",
    "df_L1 = consulta_archivo('nes_mega')\n",
    "# plot_percentiles(df_L1, 'Dias_interaccion')\n",
    "print(df_L1[df_L1['nInteracciones'] == 0].shape)\n",
    "plot_percentiles(df_L1, 'nInteracciones', 95)"
   ]
  },
  {
   "cell_type": "code",
   "execution_count": 10,
   "metadata": {},
   "outputs": [
    {
     "data": {
      "text/plain": [
       "(986789, 3)"
      ]
     },
     "execution_count": 10,
     "metadata": {},
     "output_type": "execute_result"
    }
   ],
   "source": [
    "percentile_value_max = np.percentile(df_L1['nInteracciones'], 95)\n",
    "df = df_L1[(df_L1['nInteracciones'] > 0) & (df_L1['nInteracciones'] < percentile_value_max)].copy()\n",
    "print(df.shape)\n",
    "percentile_value_max = np.percentile(df['nInteracciones'], 66)\n",
    "print(df[df['nInteracciones'] > percentile_value_max].shape)\n",
    "# Crear un nuevo DataFrame con valores menores o iguales a 1\n",
    "menores1 = df[df['nInteracciones'] <= 1].copy()\n",
    "print(menores1.shape)\n",
    "# Excluir los valores menores o iguales a 1 del DataFrame original\n",
    "df_final = df[df['nInteracciones'] > 1].copy()\n",
    "print(df_final.shape)"
   ]
  },
  {
   "cell_type": "code",
   "execution_count": null,
   "metadata": {},
   "outputs": [],
   "source": [
    "plot_percentiles(df_final, 'nInteracciones')"
   ]
  },
  {
   "cell_type": "code",
   "execution_count": 8,
   "metadata": {},
   "outputs": [
    {
     "data": {
      "text/plain": [
       "(156549, 3)"
      ]
     },
     "execution_count": 8,
     "metadata": {},
     "output_type": "execute_result"
    }
   ],
   "source": [
    " # Calcula el percentil límite\n",
    "# percentile_value = \n",
    "# np.percentile(df_final['nInteracciones'], 66)\n",
    "# print(percentile_value)\n",
    "percentile_value_max = np.percentile(df_final['nInteracciones'], 66)\n",
    "print(df_final[df_final['nInteracciones'] > percentile_value_max].shape)\n",
    " # Calcula el percentil límite\n",
    "percentile_value = np.percentile(df_L1['nInteracciones'], 95)\n",
    "print(percentile_value)"
   ]
  },
  {
   "cell_type": "code",
   "execution_count": null,
   "metadata": {},
   "outputs": [],
   "source": []
  },
  {
   "cell_type": "code",
   "execution_count": null,
   "metadata": {},
   "outputs": [],
   "source": [
    "df.shape"
   ]
  },
  {
   "cell_type": "code",
   "execution_count": null,
   "metadata": {},
   "outputs": [],
   "source": [
    "df[df['nInteracciones'] <= 2].shape"
   ]
  },
  {
   "cell_type": "code",
   "execution_count": null,
   "metadata": {},
   "outputs": [],
   "source": [
    "# Calcular deciles para ambas variables\n",
    "df_final['corte_Dias_interaccion'] = pd.qcut(df_final['Dias_interaccion'], q=5, labels=False, duplicates='drop')\n",
    "df_final['corte_nInteracciones'] = pd.qcut(df_final['nInteracciones'], q=5, labels=False, duplicates='drop')\n",
    "# Crear una tabla de contingencia (matriz de cruces)\n",
    "contingency_table = pd.crosstab(df_final['corte_Dias_interaccion'], df_final['corte_nInteracciones'])\n",
    "\n",
    "# Imprimir la tabla de contingencia\n",
    "print(contingency_table)"
   ]
  },
  {
   "cell_type": "code",
   "execution_count": null,
   "metadata": {},
   "outputs": [],
   "source": [
    "df_final.head()"
   ]
  },
  {
   "cell_type": "code",
   "execution_count": null,
   "metadata": {},
   "outputs": [],
   "source": [
    "df_L1.head(2)"
   ]
  },
  {
   "cell_type": "code",
   "execution_count": null,
   "metadata": {},
   "outputs": [],
   "source": [
    "df_L1.head(2)"
   ]
  },
  {
   "cell_type": "code",
   "execution_count": null,
   "metadata": {},
   "outputs": [],
   "source": [
    "# Crear un mapa de calor con Seaborn\n",
    "plt.figure(figsize=(10, 8))\n",
    "sns.heatmap(contingency_table, annot=True, cmap=\"YlGnBu\", fmt='g', cbar_kws={'label': 'Frecuencia'})\n",
    "plt.xlabel('Quintiles de Interacciones')\n",
    "plt.ylabel('Quintiles de Dias Ultima Interaccion')\n",
    "plt.title('Mapa de Calor de la Tabla de Contingencia')\n",
    "plt.show()"
   ]
  },
  {
   "cell_type": "code",
   "execution_count": null,
   "metadata": {},
   "outputs": [],
   "source": [
    "# Llama a la función con el nombre de tu archivo SQL\n",
    "df_L1 = consulta_archivo('tada_total')\n",
    "# plot_percentiles(df_L1, 'Dias_interaccion')"
   ]
  },
  {
   "cell_type": "code",
   "execution_count": null,
   "metadata": {},
   "outputs": [],
   "source": [
    "plot_percentiles(df_L1, 'ordenes', 99)"
   ]
  },
  {
   "cell_type": "code",
   "execution_count": null,
   "metadata": {},
   "outputs": [],
   "source": [
    "plot_percentiles(df_L1, 'money',99)"
   ]
  },
  {
   "cell_type": "code",
   "execution_count": null,
   "metadata": {},
   "outputs": [],
   "source": [
    "percentile_value_max = np.percentile(df['ordenes'], 20)\n",
    "df = [(df['ordenes'] < percentile_value_max)].copy()\n",
    "df.shape"
   ]
  },
  {
   "cell_type": "code",
   "execution_count": null,
   "metadata": {},
   "outputs": [],
   "source": [
    "percentile_value_max = np.percentile(df_L1['money'], 99)\n",
    "df = df_L1[(df_L1['money'] > 0) & (df_L1['money'] < percentile_value_max)].copy()\n",
    "df.shape"
   ]
  },
  {
   "cell_type": "code",
   "execution_count": null,
   "metadata": {},
   "outputs": [],
   "source": [
    "percentile_value_max = np.percentile(df['ordenes'], 99)\n",
    "df = df[(df['ordenes'] > 0) & (df['ordenes'] < percentile_value_max)].copy()\n",
    "df.shape"
   ]
  },
  {
   "cell_type": "code",
   "execution_count": null,
   "metadata": {},
   "outputs": [],
   "source": [
    "# Calcular deciles para ambas variables\n",
    "df['corte_ordenes'] = pd.qcut(df['ordenes'], q=3, labels=False, duplicates='drop')\n",
    "df['corte_money'] = pd.qcut(df['money'], q=3, labels=False, duplicates='drop')\n",
    "# Crear una tabla de contingencia (matriz de cruces)\n",
    "contingency_table = pd.crosstab(df['corte_ordenes'], df['corte_money'])\n",
    "\n",
    "# Imprimir la tabla de contingencia\n",
    "print(contingency_table)"
   ]
  },
  {
   "cell_type": "code",
   "execution_count": null,
   "metadata": {},
   "outputs": [],
   "source": [
    "contingency_table.to_csv('test.csv', index=False)"
   ]
  },
  {
   "cell_type": "code",
   "execution_count": null,
   "metadata": {},
   "outputs": [],
   "source": [
    "df['corte_money'].head()"
   ]
  },
  {
   "cell_type": "code",
   "execution_count": null,
   "metadata": {},
   "outputs": [],
   "source": [
    "# Crear un mapa de calor con Seaborn\n",
    "plt.figure(figsize=(10, 8))\n",
    "sns.heatmap(contingency_table, annot=True, cmap=\"YlGnBu\", fmt='g', cbar_kws={'label': 'Frecuencia'})\n",
    "plt.xlabel('Quintiles de Interacciones')\n",
    "plt.ylabel('Quintiles de Dias Ultima Interaccion')\n",
    "plt.title('Mapa de Calor de la Tabla de Contingencia')\n",
    "plt.show()"
   ]
  }
 ],
 "metadata": {
  "kernelspec": {
   "display_name": ".venv",
   "language": "python",
   "name": "python3"
  },
  "language_info": {
   "codemirror_mode": {
    "name": "ipython",
    "version": 3
   },
   "file_extension": ".py",
   "mimetype": "text/x-python",
   "name": "python",
   "nbconvert_exporter": "python",
   "pygments_lexer": "ipython3",
   "version": "3.10.11"
  }
 },
 "nbformat": 4,
 "nbformat_minor": 2
}
