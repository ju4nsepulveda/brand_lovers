{
 "cells": [
  {
   "cell_type": "code",
   "execution_count": 58,
   "metadata": {},
   "outputs": [],
   "source": [
    "# packs\n",
    "import os\n",
    "import fnmatch\n",
    "import numpy as np\n",
    "import pandas as pd\n",
    "from google.cloud import bigquery\n",
    "import warnings\n",
    "\n",
    "# ocultar warnings\n",
    "warnings.filterwarnings('ignore')\n",
    "\n",
    "#funciones\n",
    "def consulta_archivo(patron, ruta='../querys'):\n",
    "    \"\"\"\n",
    "    Ejecuta una consulta en BigQuery utilizando un archivo SQL que coincide con un patrón.\n",
    "\n",
    "    Parameters:\n",
    "    - patron (str): El patrón para buscar el archivo SQL.\n",
    "    - ruta (str, optional): La ruta del directorio donde se buscarán los archivos SQL. \n",
    "                           Por defecto, es '../querys'.\n",
    "\n",
    "    Returns:\n",
    "    - pandas.DataFrame or None: El resultado de la consulta en forma de DataFrame de pandas. \n",
    "                               Si no se encuentra el archivo SQL, retorna None.\n",
    "\n",
    "    Example:\n",
    "    ```python\n",
    "    patron_busqueda = 'megabrands'\n",
    "    df_resultado = consulta_archivo(patron_busqueda)\n",
    "    ```\n",
    "\n",
    "    \"\"\"\n",
    "    # Encuentra el archivo SQL utilizando el patrón\n",
    "    for nombre_archivo in os.listdir(ruta):\n",
    "        if fnmatch.fnmatch(nombre_archivo, f'*{patron}*.sql'):\n",
    "            # Construye la ruta completa al archivo SQL\n",
    "            ruta_completa_sql = os.path.join(ruta, nombre_archivo)\n",
    "            print(nombre_archivo)\n",
    "            # Lee el contenido del archivo SQL\n",
    "            with open(ruta_completa_sql, \"r\") as file:\n",
    "                sql = file.read()\n",
    "\n",
    "            # Ejecuta la consulta y convierte los resultados a un DataFrame de pandas\n",
    "            cliente = bigquery.Client()\n",
    "            df_resultado = cliente.query(sql).to_dataframe()\n",
    "            print(df_resultado.head(2))\n",
    "            print(df_resultado.shape)\n",
    "            return df_resultado\n",
    "\n",
    "    # Si no se encuentra ningún archivo que coincida con el patrón\n",
    "    print('No se encontró el archivo SQL.')\n",
    "    return None\n",
    "\n",
    "def procesar_df_interacciones(df):\n",
    "    \"\"\"\n",
    "    Función que procesa un DataFrame según las especificaciones dadas.\n",
    "\n",
    "    Parámetros:\n",
    "    - df: DataFrame a procesar.\n",
    "\n",
    "    Returns:\n",
    "    - DataFrame procesado.\n",
    "    \"\"\"\n",
    "    print('Volumen inicial:')\n",
    "    print(df.shape)\n",
    "    print('Fase 1: Eliminando la variable \"abi_brand\"')\n",
    "    df = df.drop('abi_brand', axis=1, errors='ignore')\n",
    "    print('Fase 1 Done\\n')\n",
    "\n",
    "    print('Fase 2: Filtrando valores superiores al percentil 95 en \"nInteracciones\" y \"Dias_interaccion\"')\n",
    "    limite_superior_nInteracciones = df['nInteracciones'].quantile(0.95)\n",
    "    limite_superior_Dias_interaccion = df['Dias_interaccion'].quantile(0.95)\n",
    "    \n",
    "    df = df[(df['nInteracciones'] <= limite_superior_nInteracciones) & (df['Dias_interaccion'] <= limite_superior_Dias_interaccion)]\n",
    "    \n",
    "    print('Fase 2 Done\\n')\n",
    "\n",
    "    print('Fase 3: Seleccionando registros con \"nInteracciones\" > 1')\n",
    "    df = df[df['nInteracciones'] > 1]\n",
    "    print('Fase 3 Done\\n')\n",
    "\n",
    "    print('Fase 4: Aplicando la condición \"brand lovers\"')\n",
    "    df = df[(df['nInteracciones'] > 4) | (df['Dias_interaccion'] < 75)]\n",
    "    print('Fase 4 Done\\n')\n",
    "\n",
    "    print('Volumen final:')\n",
    "    print(df.shape)\n",
    "    df1 = df[['td_id1']] \n",
    "    df1.loc[:, 'origen'] = 'interaccion'\n",
    "    return df1\n",
    "\n",
    "def procesar_df_dtc(df):\n",
    "    \"\"\"\n",
    "    Función que procesa un DataFrame según las especificaciones dadas.\n",
    "\n",
    "    Parámetros:\n",
    "    - df: DataFrame a procesar.\n",
    "\n",
    "    Returns:\n",
    "    - DataFrame procesado.\n",
    "    \"\"\"\n",
    "\n",
    "    print('Volumen inicial:')\n",
    "    print(df.shape)\n",
    "\n",
    "    print('Fase 1: Filtrando valores superiores al percentil 99 en \"ordenes\" y \"money\"')\n",
    "    limite_superior_ordenes = df['ordenes'].quantile(0.99)\n",
    "    limite_superior_money = df['money'].quantile(0.99)\n",
    "    \n",
    "    df = df[(df['ordenes'] <= limite_superior_ordenes) & (df['money'] <= limite_superior_money)]\n",
    "    \n",
    "    print('Fase 1 done\\n')\n",
    "\n",
    "    print('Fase 2: Conservando registros superiores al percentil 1 en \"money\"')\n",
    "    limite_inferior_money = df['money'].quantile(0.01)\n",
    "    \n",
    "    df = df[df['money'] >= limite_inferior_money]\n",
    "    \n",
    "    print('Fase 2 done\\n')\n",
    "\n",
    "    print('Fase 3: Seleccionando registros superiores o iguales al percentil 66 en \"ordenes\" y \"money\"')\n",
    "    limite_superior_66 = df[['ordenes', 'money']].quantile(0.66)\n",
    "    \n",
    "    df = df[(df['ordenes'] >= limite_superior_66['ordenes']) & (df['money'] >= limite_superior_66['money'])]\n",
    "    \n",
    "    print('Fase 3 done\\n')\n",
    "    print('Volumen final:')\n",
    "    print(df.shape)\n",
    "\n",
    "    df1 = df[['td_id']] \n",
    "    df1.loc[:, 'origen'] = 'dtc'\n",
    "\n",
    "    return df\n"
   ]
  },
  {
   "cell_type": "code",
   "execution_count": 73,
   "metadata": {},
   "outputs": [
    {
     "name": "stdout",
     "output_type": "stream",
     "text": [
      "interacciones_mega.sql\n",
      "                                              td_id1  nInteracciones  \\\n",
      "0  ffffac8e608e2c257507de669d5e84d62cccab4ce8653e...               2   \n",
      "1  ffffa7a98bfb8d9dcfe437b51cc4b0f0bf36f806f55faf...               1   \n",
      "\n",
      "   Dias_interaccion     abi_brand  \n",
      "0               132        Corona  \n",
      "1               104  Corona Extra  \n",
      "(808127, 4)\n"
     ]
    }
   ],
   "source": [
    "# Llama a la función con el nombre de tu archivo SQL\n",
    "df = consulta_archivo('nes_mega')\n",
    "# Agrupar corona\n",
    "df.loc[df['abi_brand'] == 'Corona Extra', 'abi_brand'] = 'Corona'"
   ]
  },
  {
   "cell_type": "code",
   "execution_count": 75,
   "metadata": {},
   "outputs": [
    {
     "data": {
      "text/plain": [
       "808127"
      ]
     },
     "execution_count": 75,
     "metadata": {},
     "output_type": "execute_result"
    }
   ],
   "source": [
    "df.td_id1.nunique()"
   ]
  },
  {
   "cell_type": "code",
   "execution_count": 19,
   "metadata": {},
   "outputs": [
    {
     "data": {
      "text/plain": [
       "abi_brand\n",
       "Corona           248196\n",
       "Aguila           244624\n",
       "Poker            199310\n",
       "Club Colombia    116488\n",
       "Name: count, dtype: int64"
      ]
     },
     "execution_count": 19,
     "metadata": {},
     "output_type": "execute_result"
    }
   ],
   "source": [
    "df.abi_brand.value_counts()"
   ]
  },
  {
   "cell_type": "code",
   "execution_count": 23,
   "metadata": {},
   "outputs": [],
   "source": [
    "\n",
    "# Lista de marcas\n",
    "marcas = ['Club Colombia', 'Poker', 'Corona', 'Aguila']\n",
    "\n",
    "# Diccionario para almacenar DataFrames filtrados\n",
    "dataframes_filtrados = {marca: df[df['abi_brand'].str.contains(marca)] for marca in marcas}\n",
    "\n",
    "# Accede a los DataFrames individuales usando el nombre de la marca\n",
    "club_df = dataframes_filtrados['Club Colombia']\n",
    "poker_df = dataframes_filtrados['Poker']\n",
    "corona_df = dataframes_filtrados['Corona']\n",
    "aguila_df = dataframes_filtrados['Aguila']"
   ]
  },
  {
   "cell_type": "code",
   "execution_count": 46,
   "metadata": {},
   "outputs": [
    {
     "name": "stdout",
     "output_type": "stream",
     "text": [
      "Volumen inicial:\n",
      "(116488, 4)\n",
      "Fase 1: Eliminando la variable \"abi_brand\"\n",
      "Fase 1 Done\n",
      "\n",
      "Fase 2: Filtrando valores superiores al percentil 95 en \"nInteracciones\" y \"Dias_interaccion\"\n",
      "Fase 2 Done\n",
      "\n",
      "Fase 3: Seleccionando registros con \"nInteracciones\" > 1\n",
      "Fase 3 Done\n",
      "\n",
      "Fase 4: Aplicando la condición \"brand lovers\"\n",
      "Fase 4 Done\n",
      "\n",
      "Volumen final:\n",
      "(19953, 3)\n"
     ]
    }
   ],
   "source": [
    "club_lovers = procesar_df_interacciones(club_df)"
   ]
  },
  {
   "cell_type": "code",
   "execution_count": 47,
   "metadata": {},
   "outputs": [
    {
     "data": {
      "text/html": [
       "<div>\n",
       "<style scoped>\n",
       "    .dataframe tbody tr th:only-of-type {\n",
       "        vertical-align: middle;\n",
       "    }\n",
       "\n",
       "    .dataframe tbody tr th {\n",
       "        vertical-align: top;\n",
       "    }\n",
       "\n",
       "    .dataframe thead th {\n",
       "        text-align: right;\n",
       "    }\n",
       "</style>\n",
       "<table border=\"1\" class=\"dataframe\">\n",
       "  <thead>\n",
       "    <tr style=\"text-align: right;\">\n",
       "      <th></th>\n",
       "      <th>td_id1</th>\n",
       "      <th>origen</th>\n",
       "    </tr>\n",
       "  </thead>\n",
       "  <tbody>\n",
       "    <tr>\n",
       "      <th>23</th>\n",
       "      <td>fffd89f1-da0a-414a-91c3-8f7d395c2c31</td>\n",
       "      <td>interaccion</td>\n",
       "    </tr>\n",
       "    <tr>\n",
       "      <th>47</th>\n",
       "      <td>fffb6838-c5d4-40e4-b9de-8af0635dff9f</td>\n",
       "      <td>interaccion</td>\n",
       "    </tr>\n",
       "    <tr>\n",
       "      <th>75</th>\n",
       "      <td>fff8cf9c7c603e23e5aadd03a5ed78aec24707f87ad873...</td>\n",
       "      <td>interaccion</td>\n",
       "    </tr>\n",
       "    <tr>\n",
       "      <th>88</th>\n",
       "      <td>fff7bfd701a95926596a72ae8e160a18cafb5015208463...</td>\n",
       "      <td>interaccion</td>\n",
       "    </tr>\n",
       "    <tr>\n",
       "      <th>197</th>\n",
       "      <td>ffeef0605759c9565dba5df3c5eade575b16ebd83ed0fd...</td>\n",
       "      <td>interaccion</td>\n",
       "    </tr>\n",
       "  </tbody>\n",
       "</table>\n",
       "</div>"
      ],
      "text/plain": [
       "                                                td_id1       origen\n",
       "23                fffd89f1-da0a-414a-91c3-8f7d395c2c31  interaccion\n",
       "47                fffb6838-c5d4-40e4-b9de-8af0635dff9f  interaccion\n",
       "75   fff8cf9c7c603e23e5aadd03a5ed78aec24707f87ad873...  interaccion\n",
       "88   fff7bfd701a95926596a72ae8e160a18cafb5015208463...  interaccion\n",
       "197  ffeef0605759c9565dba5df3c5eade575b16ebd83ed0fd...  interaccion"
      ]
     },
     "execution_count": 47,
     "metadata": {},
     "output_type": "execute_result"
    }
   ],
   "source": [
    "club_lovers.head()"
   ]
  },
  {
   "cell_type": "code",
   "execution_count": 48,
   "metadata": {},
   "outputs": [
    {
     "name": "stdout",
     "output_type": "stream",
     "text": [
      "Volumen inicial:\n",
      "(116488, 4)\n",
      "Fase 1: Eliminando la variable \"abi_brand\"\n",
      "Fase 1 Done\n",
      "\n",
      "Fase 2: Filtrando valores superiores al percentil 95 en \"nInteracciones\" y \"Dias_interaccion\"\n",
      "Fase 2 Done\n",
      "\n",
      "Fase 3: Seleccionando registros con \"nInteracciones\" > 1\n",
      "Fase 3 Done\n",
      "\n",
      "Fase 4: Aplicando la condición \"brand lovers\"\n",
      "Fase 4 Done\n",
      "\n",
      "Volumen final:\n",
      "(19953, 3)\n",
      "Volumen inicial:\n",
      "(199310, 4)\n",
      "Fase 1: Eliminando la variable \"abi_brand\"\n",
      "Fase 1 Done\n",
      "\n",
      "Fase 2: Filtrando valores superiores al percentil 95 en \"nInteracciones\" y \"Dias_interaccion\"\n",
      "Fase 2 Done\n",
      "\n",
      "Fase 3: Seleccionando registros con \"nInteracciones\" > 1\n",
      "Fase 3 Done\n",
      "\n",
      "Fase 4: Aplicando la condición \"brand lovers\"\n",
      "Fase 4 Done\n",
      "\n",
      "Volumen final:\n",
      "(59667, 3)\n",
      "Volumen inicial:\n",
      "(248196, 4)\n",
      "Fase 1: Eliminando la variable \"abi_brand\"\n",
      "Fase 1 Done\n",
      "\n",
      "Fase 2: Filtrando valores superiores al percentil 95 en \"nInteracciones\" y \"Dias_interaccion\"\n",
      "Fase 2 Done\n",
      "\n",
      "Fase 3: Seleccionando registros con \"nInteracciones\" > 1\n",
      "Fase 3 Done\n",
      "\n",
      "Fase 4: Aplicando la condición \"brand lovers\"\n",
      "Fase 4 Done\n",
      "\n",
      "Volumen final:\n",
      "(34869, 3)\n",
      "Volumen inicial:\n",
      "(244624, 4)\n",
      "Fase 1: Eliminando la variable \"abi_brand\"\n",
      "Fase 1 Done\n",
      "\n",
      "Fase 2: Filtrando valores superiores al percentil 95 en \"nInteracciones\" y \"Dias_interaccion\"\n",
      "Fase 2 Done\n",
      "\n",
      "Fase 3: Seleccionando registros con \"nInteracciones\" > 1\n",
      "Fase 3 Done\n",
      "\n",
      "Fase 4: Aplicando la condición \"brand lovers\"\n",
      "Fase 4 Done\n",
      "\n",
      "Volumen final:\n",
      "(108098, 3)\n"
     ]
    }
   ],
   "source": [
    "club_lovers = procesar_df_interacciones(club_df)\n",
    "poker_lovers = procesar_df_interacciones(poker_df)\n",
    "corona_lovers = procesar_df_interacciones(corona_df)\n",
    "aguila_lovers = procesar_df_interacciones(aguila_df)"
   ]
  },
  {
   "cell_type": "code",
   "execution_count": null,
   "metadata": {},
   "outputs": [],
   "source": []
  },
  {
   "cell_type": "code",
   "execution_count": 66,
   "metadata": {},
   "outputs": [
    {
     "name": "stdout",
     "output_type": "stream",
     "text": [
      "club_tada.sql\n",
      "                                               td_id  ordenes     money\n",
      "0  00010ffddd535c3d04f67ad9f91b5493ab8a6d5bc41a36...        1  47520.00\n",
      "1  0001a1de3f8c90902ae9b1dd22e5c78ae974887d05f3d1...        1  17792.86\n",
      "(37510, 3)\n",
      "poker_tada.sql\n",
      "                                               td_id  ordenes      money\n",
      "0  0001a1de3f8c90902ae9b1dd22e5c78ae974887d05f3d1...        1   15107.14\n",
      "1               0001b68b-18d4-4a28-a7bd-d9ea6787c06d        4  161590.00\n",
      "(68241, 3)\n",
      "corona_tada.sql\n",
      "                                               td_id  ordenes    money\n",
      "0  00005beff72033e6d62d53c0be42b71a6474acfa502e40...        2  54600.0\n",
      "1  0001dd3376517611a308369481b301d55a727b54e41cd5...        2  87400.0\n",
      "(37399, 3)\n",
      "aguila_tada.sql\n",
      "                                               td_id  ordenes     money\n",
      "0               000049dc-2f41-4ee9-b939-a45af13d06da        1   25200.0\n",
      "1  00039052dee297eb16d2aea96a9286cd25d456c7e3beb4...        3  158320.0\n",
      "(64841, 3)\n"
     ]
    }
   ],
   "source": [
    "# Cortes para tada\n",
    "# Llama a la función con el nombre de tu archivo SQL\n",
    "club = consulta_archivo('club_ta')\n",
    "poker = consulta_archivo('poker_ta')\n",
    "corona = consulta_archivo('corona_ta')\n",
    "aguila = consulta_archivo('uila_tad')\n"
   ]
  },
  {
   "cell_type": "code",
   "execution_count": 77,
   "metadata": {},
   "outputs": [
    {
     "data": {
      "text/plain": [
       "150481"
      ]
     },
     "execution_count": 77,
     "metadata": {},
     "output_type": "execute_result"
    }
   ],
   "source": [
    "pd.concat([club, poker, corona, aguila]).td_id.nunique()"
   ]
  },
  {
   "cell_type": "code",
   "execution_count": 67,
   "metadata": {},
   "outputs": [
    {
     "name": "stdout",
     "output_type": "stream",
     "text": [
      "Volumen inicial:\n",
      "(37510, 3)\n",
      "Fase 1: Filtrando valores superiores al percentil 99 en \"ordenes\" y \"money\"\n",
      "Fase 1 done\n",
      "\n",
      "Fase 2: Conservando registros superiores al percentil 1 en \"money\"\n",
      "Fase 2 done\n",
      "\n",
      "Fase 3: Seleccionando registros superiores o iguales al percentil 66 en \"ordenes\" y \"money\"\n",
      "Fase 3 done\n",
      "\n",
      "Volumen final:\n",
      "(9902, 3)\n",
      "Volumen inicial:\n",
      "(68241, 3)\n",
      "Fase 1: Filtrando valores superiores al percentil 99 en \"ordenes\" y \"money\"\n",
      "Fase 1 done\n",
      "\n",
      "Fase 2: Conservando registros superiores al percentil 1 en \"money\"\n",
      "Fase 2 done\n",
      "\n",
      "Fase 3: Seleccionando registros superiores o iguales al percentil 66 en \"ordenes\" y \"money\"\n",
      "Fase 3 done\n",
      "\n",
      "Volumen final:\n",
      "(17706, 3)\n",
      "Volumen inicial:\n",
      "(37399, 3)\n",
      "Fase 1: Filtrando valores superiores al percentil 99 en \"ordenes\" y \"money\"\n",
      "Fase 1 done\n",
      "\n",
      "Fase 2: Conservando registros superiores al percentil 1 en \"money\"\n",
      "Fase 2 done\n",
      "\n",
      "Fase 3: Seleccionando registros superiores o iguales al percentil 66 en \"ordenes\" y \"money\"\n",
      "Fase 3 done\n",
      "\n",
      "Volumen final:\n",
      "(9990, 3)\n",
      "Volumen inicial:\n",
      "(64841, 3)\n",
      "Fase 1: Filtrando valores superiores al percentil 99 en \"ordenes\" y \"money\"\n",
      "Fase 1 done\n",
      "\n",
      "Fase 2: Conservando registros superiores al percentil 1 en \"money\"\n",
      "Fase 2 done\n",
      "\n",
      "Fase 3: Seleccionando registros superiores o iguales al percentil 66 en \"ordenes\" y \"money\"\n",
      "Fase 3 done\n",
      "\n",
      "Volumen final:\n",
      "(17968, 3)\n"
     ]
    }
   ],
   "source": [
    "club_tada = procesar_df_dtc(club)\n",
    "poker_tada = procesar_df_dtc(poker)\n",
    "corona_tada = procesar_df_dtc(corona)\n",
    "aguila_tada = procesar_df_dtc(aguila)"
   ]
  },
  {
   "cell_type": "code",
   "execution_count": 72,
   "metadata": {},
   "outputs": [
    {
     "data": {
      "text/plain": [
       "(126066, 5)"
      ]
     },
     "execution_count": 72,
     "metadata": {},
     "output_type": "execute_result"
    }
   ],
   "source": [
    "# Concatenar los DataFrames a lo largo de la columna 'td_id'\n",
    "df = pd.concat([aguila_lovers, aguila_tada], axis=0, ignore_index=True, sort=False)\n",
    "df.shape"
   ]
  },
  {
   "cell_type": "code",
   "execution_count": 69,
   "metadata": {},
   "outputs": [
    {
     "data": {
      "text/plain": [
       "(29855, 5)"
      ]
     },
     "execution_count": 69,
     "metadata": {},
     "output_type": "execute_result"
    }
   ],
   "source": [
    "df.shape"
   ]
  }
 ],
 "metadata": {
  "kernelspec": {
   "display_name": ".venv",
   "language": "python",
   "name": "python3"
  },
  "language_info": {
   "codemirror_mode": {
    "name": "ipython",
    "version": 3
   },
   "file_extension": ".py",
   "mimetype": "text/x-python",
   "name": "python",
   "nbconvert_exporter": "python",
   "pygments_lexer": "ipython3",
   "version": "3.10.11"
  }
 },
 "nbformat": 4,
 "nbformat_minor": 2
}
