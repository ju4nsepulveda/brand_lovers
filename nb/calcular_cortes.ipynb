{
 "cells": [
  {
   "cell_type": "code",
   "execution_count": 45,
   "metadata": {},
   "outputs": [],
   "source": [
    "# packs\n",
    "import os\n",
    "import fnmatch\n",
    "import numpy as np\n",
    "import pandas as pd\n",
    "from google.cloud import bigquery\n",
    "import warnings\n",
    "\n",
    "# ocultar warnings\n",
    "warnings.filterwarnings('ignore')\n",
    "\n",
    "#funciones\n",
    "def consulta_archivo(patron, ruta='../querys'):\n",
    "    \"\"\"\n",
    "    Ejecuta una consulta en BigQuery utilizando un archivo SQL que coincide con un patrón.\n",
    "\n",
    "    Parameters:\n",
    "    - patron (str): El patrón para buscar el archivo SQL.\n",
    "    - ruta (str, optional): La ruta del directorio donde se buscarán los archivos SQL. \n",
    "                           Por defecto, es '../querys'.\n",
    "\n",
    "    Returns:\n",
    "    - pandas.DataFrame or None: El resultado de la consulta en forma de DataFrame de pandas. \n",
    "                               Si no se encuentra el archivo SQL, retorna None.\n",
    "\n",
    "    Example:\n",
    "    ```python\n",
    "    patron_busqueda = 'megabrands'\n",
    "    df_resultado = consulta_archivo(patron_busqueda)\n",
    "    ```\n",
    "\n",
    "    \"\"\"\n",
    "    # Encuentra el archivo SQL utilizando el patrón\n",
    "    for nombre_archivo in os.listdir(ruta):\n",
    "        if fnmatch.fnmatch(nombre_archivo, f'*{patron}*.sql'):\n",
    "            # Construye la ruta completa al archivo SQL\n",
    "            ruta_completa_sql = os.path.join(ruta, nombre_archivo)\n",
    "            print(nombre_archivo)\n",
    "            # Lee el contenido del archivo SQL\n",
    "            with open(ruta_completa_sql, \"r\") as file:\n",
    "                sql = file.read()\n",
    "\n",
    "            # Ejecuta la consulta y convierte los resultados a un DataFrame de pandas\n",
    "            cliente = bigquery.Client()\n",
    "            df_resultado = cliente.query(sql).to_dataframe()\n",
    "            print(df_resultado.head(2))\n",
    "            print(df_resultado.shape)\n",
    "            return df_resultado\n",
    "\n",
    "    # Si no se encuentra ningún archivo que coincida con el patrón\n",
    "    print('No se encontró el archivo SQL.')\n",
    "    return None\n",
    "\n",
    "def procesar_df_interacciones(df):\n",
    "    \"\"\"\n",
    "    Función que procesa un DataFrame según las especificaciones dadas.\n",
    "\n",
    "    Parámetros:\n",
    "    - df: DataFrame a procesar.\n",
    "\n",
    "    Returns:\n",
    "    - DataFrame procesado.\n",
    "    \"\"\"\n",
    "    print('Volumen inicial:')\n",
    "    print(df.shape)\n",
    "    print('Fase 1: Eliminando la variable \"abi_brand\"')\n",
    "    df = df.drop('abi_brand', axis=1, errors='ignore')\n",
    "    print('Fase 1 Done\\n')\n",
    "\n",
    "    print('Fase 2: Filtrando valores superiores al percentil 95 en \"nInteracciones\" y \"Dias_interaccion\"')\n",
    "    limite_superior_nInteracciones = df['nInteracciones'].quantile(0.95)\n",
    "    limite_superior_Dias_interaccion = df['Dias_interaccion'].quantile(0.95)\n",
    "    \n",
    "    df = df[(df['nInteracciones'] <= limite_superior_nInteracciones) & (df['Dias_interaccion'] <= limite_superior_Dias_interaccion)]\n",
    "    \n",
    "    print('Fase 2 Done\\n')\n",
    "\n",
    "    print('Fase 3: Seleccionando registros con \"nInteracciones\" > 1')\n",
    "    df = df[df['nInteracciones'] > 1]\n",
    "    print('Fase 3 Done\\n')\n",
    "\n",
    "    print('Fase 4: Aplicando la condición \"brand lovers\"')\n",
    "    df = df[(df['nInteracciones'] > 4) | (df['Dias_interaccion'] < 75)]\n",
    "    print('Fase 4 Done\\n')\n",
    "\n",
    "    print('Volumen final:')\n",
    "    print(df.shape)\n",
    "    df1 = df[['td_id1']] \n",
    "    df1.loc[:, 'origen'] = 'interaccion'\n",
    "    return df1\n"
   ]
  },
  {
   "cell_type": "code",
   "execution_count": 16,
   "metadata": {},
   "outputs": [
    {
     "name": "stdout",
     "output_type": "stream",
     "text": [
      "interacciones_mega.sql\n",
      "                                              td_id1  nInteracciones  \\\n",
      "0  ffffac8e608e2c257507de669d5e84d62cccab4ce8653e...               2   \n",
      "1  ffffa7a98bfb8d9dcfe437b51cc4b0f0bf36f806f55faf...               1   \n",
      "\n",
      "   Dias_interaccion     abi_brand  \n",
      "0               131        Corona  \n",
      "1               104  Corona Extra  \n",
      "(808618, 4)\n"
     ]
    }
   ],
   "source": [
    "# Llama a la función con el nombre de tu archivo SQL\n",
    "df = consulta_archivo('nes_mega')\n",
    "# Agrupar corona\n",
    "df.loc[df['abi_brand'] == 'Corona Extra', 'abi_brand'] = 'Corona'"
   ]
  },
  {
   "cell_type": "code",
   "execution_count": 19,
   "metadata": {},
   "outputs": [
    {
     "data": {
      "text/plain": [
       "abi_brand\n",
       "Corona           248196\n",
       "Aguila           244624\n",
       "Poker            199310\n",
       "Club Colombia    116488\n",
       "Name: count, dtype: int64"
      ]
     },
     "execution_count": 19,
     "metadata": {},
     "output_type": "execute_result"
    }
   ],
   "source": [
    "df.abi_brand.value_counts()"
   ]
  },
  {
   "cell_type": "code",
   "execution_count": 23,
   "metadata": {},
   "outputs": [],
   "source": [
    "\n",
    "# Lista de marcas\n",
    "marcas = ['Club Colombia', 'Poker', 'Corona', 'Aguila']\n",
    "\n",
    "# Diccionario para almacenar DataFrames filtrados\n",
    "dataframes_filtrados = {marca: df[df['abi_brand'].str.contains(marca)] for marca in marcas}\n",
    "\n",
    "# Accede a los DataFrames individuales usando el nombre de la marca\n",
    "club_df = dataframes_filtrados['Club Colombia']\n",
    "poker_df = dataframes_filtrados['Poker']\n",
    "corona_df = dataframes_filtrados['Corona']\n",
    "aguila_df = dataframes_filtrados['Aguila']"
   ]
  },
  {
   "cell_type": "code",
   "execution_count": 46,
   "metadata": {},
   "outputs": [
    {
     "name": "stdout",
     "output_type": "stream",
     "text": [
      "Volumen inicial:\n",
      "(116488, 4)\n",
      "Fase 1: Eliminando la variable \"abi_brand\"\n",
      "Fase 1 Done\n",
      "\n",
      "Fase 2: Filtrando valores superiores al percentil 95 en \"nInteracciones\" y \"Dias_interaccion\"\n",
      "Fase 2 Done\n",
      "\n",
      "Fase 3: Seleccionando registros con \"nInteracciones\" > 1\n",
      "Fase 3 Done\n",
      "\n",
      "Fase 4: Aplicando la condición \"brand lovers\"\n",
      "Fase 4 Done\n",
      "\n",
      "Volumen final:\n",
      "(19953, 3)\n"
     ]
    }
   ],
   "source": [
    "club_lovers = procesar_df_interacciones(club_df)"
   ]
  },
  {
   "cell_type": "code",
   "execution_count": 47,
   "metadata": {},
   "outputs": [
    {
     "data": {
      "text/html": [
       "<div>\n",
       "<style scoped>\n",
       "    .dataframe tbody tr th:only-of-type {\n",
       "        vertical-align: middle;\n",
       "    }\n",
       "\n",
       "    .dataframe tbody tr th {\n",
       "        vertical-align: top;\n",
       "    }\n",
       "\n",
       "    .dataframe thead th {\n",
       "        text-align: right;\n",
       "    }\n",
       "</style>\n",
       "<table border=\"1\" class=\"dataframe\">\n",
       "  <thead>\n",
       "    <tr style=\"text-align: right;\">\n",
       "      <th></th>\n",
       "      <th>td_id1</th>\n",
       "      <th>origen</th>\n",
       "    </tr>\n",
       "  </thead>\n",
       "  <tbody>\n",
       "    <tr>\n",
       "      <th>23</th>\n",
       "      <td>fffd89f1-da0a-414a-91c3-8f7d395c2c31</td>\n",
       "      <td>interaccion</td>\n",
       "    </tr>\n",
       "    <tr>\n",
       "      <th>47</th>\n",
       "      <td>fffb6838-c5d4-40e4-b9de-8af0635dff9f</td>\n",
       "      <td>interaccion</td>\n",
       "    </tr>\n",
       "    <tr>\n",
       "      <th>75</th>\n",
       "      <td>fff8cf9c7c603e23e5aadd03a5ed78aec24707f87ad873...</td>\n",
       "      <td>interaccion</td>\n",
       "    </tr>\n",
       "    <tr>\n",
       "      <th>88</th>\n",
       "      <td>fff7bfd701a95926596a72ae8e160a18cafb5015208463...</td>\n",
       "      <td>interaccion</td>\n",
       "    </tr>\n",
       "    <tr>\n",
       "      <th>197</th>\n",
       "      <td>ffeef0605759c9565dba5df3c5eade575b16ebd83ed0fd...</td>\n",
       "      <td>interaccion</td>\n",
       "    </tr>\n",
       "  </tbody>\n",
       "</table>\n",
       "</div>"
      ],
      "text/plain": [
       "                                                td_id1       origen\n",
       "23                fffd89f1-da0a-414a-91c3-8f7d395c2c31  interaccion\n",
       "47                fffb6838-c5d4-40e4-b9de-8af0635dff9f  interaccion\n",
       "75   fff8cf9c7c603e23e5aadd03a5ed78aec24707f87ad873...  interaccion\n",
       "88   fff7bfd701a95926596a72ae8e160a18cafb5015208463...  interaccion\n",
       "197  ffeef0605759c9565dba5df3c5eade575b16ebd83ed0fd...  interaccion"
      ]
     },
     "execution_count": 47,
     "metadata": {},
     "output_type": "execute_result"
    }
   ],
   "source": [
    "club_lovers.head()"
   ]
  },
  {
   "cell_type": "code",
   "execution_count": 48,
   "metadata": {},
   "outputs": [
    {
     "name": "stdout",
     "output_type": "stream",
     "text": [
      "Volumen inicial:\n",
      "(116488, 4)\n",
      "Fase 1: Eliminando la variable \"abi_brand\"\n",
      "Fase 1 Done\n",
      "\n",
      "Fase 2: Filtrando valores superiores al percentil 95 en \"nInteracciones\" y \"Dias_interaccion\"\n",
      "Fase 2 Done\n",
      "\n",
      "Fase 3: Seleccionando registros con \"nInteracciones\" > 1\n",
      "Fase 3 Done\n",
      "\n",
      "Fase 4: Aplicando la condición \"brand lovers\"\n",
      "Fase 4 Done\n",
      "\n",
      "Volumen final:\n",
      "(19953, 3)\n",
      "Volumen inicial:\n",
      "(199310, 4)\n",
      "Fase 1: Eliminando la variable \"abi_brand\"\n",
      "Fase 1 Done\n",
      "\n",
      "Fase 2: Filtrando valores superiores al percentil 95 en \"nInteracciones\" y \"Dias_interaccion\"\n",
      "Fase 2 Done\n",
      "\n",
      "Fase 3: Seleccionando registros con \"nInteracciones\" > 1\n",
      "Fase 3 Done\n",
      "\n",
      "Fase 4: Aplicando la condición \"brand lovers\"\n",
      "Fase 4 Done\n",
      "\n",
      "Volumen final:\n",
      "(59667, 3)\n",
      "Volumen inicial:\n",
      "(248196, 4)\n",
      "Fase 1: Eliminando la variable \"abi_brand\"\n",
      "Fase 1 Done\n",
      "\n",
      "Fase 2: Filtrando valores superiores al percentil 95 en \"nInteracciones\" y \"Dias_interaccion\"\n",
      "Fase 2 Done\n",
      "\n",
      "Fase 3: Seleccionando registros con \"nInteracciones\" > 1\n",
      "Fase 3 Done\n",
      "\n",
      "Fase 4: Aplicando la condición \"brand lovers\"\n",
      "Fase 4 Done\n",
      "\n",
      "Volumen final:\n",
      "(34869, 3)\n",
      "Volumen inicial:\n",
      "(244624, 4)\n",
      "Fase 1: Eliminando la variable \"abi_brand\"\n",
      "Fase 1 Done\n",
      "\n",
      "Fase 2: Filtrando valores superiores al percentil 95 en \"nInteracciones\" y \"Dias_interaccion\"\n",
      "Fase 2 Done\n",
      "\n",
      "Fase 3: Seleccionando registros con \"nInteracciones\" > 1\n",
      "Fase 3 Done\n",
      "\n",
      "Fase 4: Aplicando la condición \"brand lovers\"\n",
      "Fase 4 Done\n",
      "\n",
      "Volumen final:\n",
      "(108098, 3)\n"
     ]
    }
   ],
   "source": [
    "club_lovers = procesar_df_interacciones(club_df)\n",
    "poker_lovers = procesar_df_interacciones(poker_df)\n",
    "corona_lovers = procesar_df_interacciones(corona_df)\n",
    "aguila_lovers = procesar_df_interacciones(aguila_df)"
   ]
  },
  {
   "cell_type": "code",
   "execution_count": null,
   "metadata": {},
   "outputs": [],
   "source": [
    "# cortes para tada"
   ]
  },
  {
   "cell_type": "code",
   "execution_count": null,
   "metadata": {},
   "outputs": [],
   "source": []
  },
  {
   "cell_type": "code",
   "execution_count": null,
   "metadata": {},
   "outputs": [],
   "source": []
  }
 ],
 "metadata": {
  "kernelspec": {
   "display_name": ".venv",
   "language": "python",
   "name": "python3"
  },
  "language_info": {
   "codemirror_mode": {
    "name": "ipython",
    "version": 3
   },
   "file_extension": ".py",
   "mimetype": "text/x-python",
   "name": "python",
   "nbconvert_exporter": "python",
   "pygments_lexer": "ipython3",
   "version": "3.10.11"
  }
 },
 "nbformat": 4,
 "nbformat_minor": 2
}
